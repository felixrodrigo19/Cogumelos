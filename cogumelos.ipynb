{
  "nbformat": 4,
  "nbformat_minor": 0,
  "metadata": {
    "colab": {
      "name": "cogumelos",
      "provenance": [],
      "collapsed_sections": [],
      "authorship_tag": "ABX9TyP/UEQfgdVJDXxwp1tv3phj",
      "include_colab_link": true
    },
    "kernelspec": {
      "display_name": "Python 3",
      "name": "python3"
    },
    "language_info": {
      "name": "python"
    }
  },
  "cells": [
    {
      "cell_type": "markdown",
      "metadata": {
        "id": "view-in-github",
        "colab_type": "text"
      },
      "source": [
        "<a href=\"https://colab.research.google.com/github/felixrodrigo19/Cogumelos/blob/main/cogumelos.ipynb\" target=\"_parent\"><img src=\"https://colab.research.google.com/assets/colab-badge.svg\" alt=\"Open In Colab\"/></a>"
      ]
    },
    {
      "cell_type": "code",
      "metadata": {
        "id": "hnUl3GVTblJ-"
      },
      "source": [
        "import pandas as pd\n",
        "import numpy as np\n",
        "\n",
        "import seaborn as sns\n",
        "\n",
        "import matplotlib.pyplot as plt\n",
        "from matplotlib import rcParams\n",
        "\n",
        "from google.colab import drive\n",
        "import plotly.express as px\n",
        "\n",
        "import warnings\n",
        "warnings.filterwarnings(\"ignore\", category=FutureWarning)"
      ],
      "execution_count": null,
      "outputs": []
    },
    {
      "cell_type": "markdown",
      "metadata": {
        "id": "_cFoZbpvg1ip"
      },
      "source": [
        ""
      ]
    },
    {
      "cell_type": "code",
      "metadata": {
        "id": "HLQEFDqUbwy9"
      },
      "source": [
        "%matplotlib inline\n",
        "rcParams['figure.figsize'] = 10, 8\n",
        "sns.set_style('whitegrid')"
      ],
      "execution_count": null,
      "outputs": []
    },
    {
      "cell_type": "code",
      "metadata": {
        "colab": {
          "base_uri": "https://localhost:8080/"
        },
        "id": "1O2lAwS4cxNM",
        "outputId": "96904226-8fb7-4ec6-f48c-c50596c73ab7"
      },
      "source": [
        "drive.mount('/content/drive')"
      ],
      "execution_count": null,
      "outputs": [
        {
          "output_type": "stream",
          "text": [
            "Mounted at /content/drive\n"
          ],
          "name": "stdout"
        }
      ]
    },
    {
      "cell_type": "code",
      "metadata": {
        "id": "Ua_FpSg5dzVt"
      },
      "source": [
        "path_dataset = '/content/drive/My Drive/Cogumelos/dataset_cogumelos.csv'"
      ],
      "execution_count": null,
      "outputs": []
    },
    {
      "cell_type": "code",
      "metadata": {
        "colab": {
          "base_uri": "https://localhost:8080/",
          "height": 151
        },
        "id": "qFXRsVsmeLme",
        "outputId": "8665516f-14f7-4c28-9347-70ae54ca4542"
      },
      "source": [
        "data_cogumelos = pd.read_csv(path_dataset)\n",
        "data_cogumelos.head(1)"
      ],
      "execution_count": null,
      "outputs": [
        {
          "output_type": "execute_result",
          "data": {
            "text/html": [
              "<div>\n",
              "<style scoped>\n",
              "    .dataframe tbody tr th:only-of-type {\n",
              "        vertical-align: middle;\n",
              "    }\n",
              "\n",
              "    .dataframe tbody tr th {\n",
              "        vertical-align: top;\n",
              "    }\n",
              "\n",
              "    .dataframe thead th {\n",
              "        text-align: right;\n",
              "    }\n",
              "</style>\n",
              "<table border=\"1\" class=\"dataframe\">\n",
              "  <thead>\n",
              "    <tr style=\"text-align: right;\">\n",
              "      <th></th>\n",
              "      <th>class</th>\n",
              "      <th>cap-shape</th>\n",
              "      <th>cap-surface</th>\n",
              "      <th>cap-color</th>\n",
              "      <th>bruises</th>\n",
              "      <th>odor</th>\n",
              "      <th>gill-attachment</th>\n",
              "      <th>gill-spacing</th>\n",
              "      <th>gill-size</th>\n",
              "      <th>gill-color</th>\n",
              "      <th>stalk-shape</th>\n",
              "      <th>stalk-root</th>\n",
              "      <th>stalk-surface-above-ring</th>\n",
              "      <th>stalk-surface-below-ring</th>\n",
              "      <th>stalk-color-above-ring</th>\n",
              "      <th>stalk-color-below-ring</th>\n",
              "      <th>veil-type</th>\n",
              "      <th>veil-color</th>\n",
              "      <th>ring-number</th>\n",
              "      <th>ring-type</th>\n",
              "      <th>spore-print-color</th>\n",
              "      <th>population</th>\n",
              "      <th>habitat</th>\n",
              "    </tr>\n",
              "  </thead>\n",
              "  <tbody>\n",
              "    <tr>\n",
              "      <th>0</th>\n",
              "      <td>p</td>\n",
              "      <td>x</td>\n",
              "      <td>s</td>\n",
              "      <td>n</td>\n",
              "      <td>t</td>\n",
              "      <td>p</td>\n",
              "      <td>f</td>\n",
              "      <td>c</td>\n",
              "      <td>n</td>\n",
              "      <td>k</td>\n",
              "      <td>e</td>\n",
              "      <td>e</td>\n",
              "      <td>s</td>\n",
              "      <td>s</td>\n",
              "      <td>w</td>\n",
              "      <td>w</td>\n",
              "      <td>p</td>\n",
              "      <td>w</td>\n",
              "      <td>o</td>\n",
              "      <td>p</td>\n",
              "      <td>k</td>\n",
              "      <td>s</td>\n",
              "      <td>u</td>\n",
              "    </tr>\n",
              "  </tbody>\n",
              "</table>\n",
              "</div>"
            ],
            "text/plain": [
              "  class cap-shape cap-surface  ... spore-print-color population habitat\n",
              "0     p         x           s  ...                 k          s       u\n",
              "\n",
              "[1 rows x 23 columns]"
            ]
          },
          "metadata": {
            "tags": []
          },
          "execution_count": 5
        }
      ]
    },
    {
      "cell_type": "code",
      "metadata": {
        "id": "oXM07PXlTq0m"
      },
      "source": [
        "colunas = ['cap-shape', 'cap-surface', 'cap-color', 'odor',\n",
        "       'gill-attachment', 'gill-spacing', 'gill-size', 'gill-color',\n",
        "       'stalk-shape', 'stalk-root', 'stalk-surface-above-ring',\n",
        "       'stalk-surface-below-ring', 'stalk-color-above-ring',\n",
        "       'stalk-color-below-ring', 'veil-type', 'veil-color', 'ring-number',\n",
        "       'ring-type', 'spore-print-color', 'population', 'habitat']"
      ],
      "execution_count": null,
      "outputs": []
    },
    {
      "cell_type": "markdown",
      "metadata": {
        "id": "jSGgBIwqfyDi"
      },
      "source": [
        "Informações de atributos: \n",
        "\n",
        "class: comestíveis = e = 0, venenosos = p = 1\n",
        "\n",
        "cap-shape: sino = b = 0, cônico = c = 1, convexo = x = 2, plano = f = 3, saliente = k = 4, afundado = s = 5\n",
        "\n",
        "cap-surface: fibrosa = f = 0, sulcos = g = 1, escamosa = y = 2, lisa = s = 3\n",
        "\n",
        "cap-color: marrom = n = 0, amarelo-claro = b = 1, canela = c = 2, cinza = g = 3, verde = r = 4, rosa = p = 5, roxo = u = 6, vermelho = e = 7, branco = w = 8, amarelo = y = 9\n",
        "\n",
        "bruises: hematomas = t = 0, não = f = 1\n",
        "\n",
        "odor: amêndoa = a = 0, anis = l = 1, creosoto = c = 2, peixe = y = 3, fétido = f = 4, mofo = m = 5, nenhum = n = 6, picante = p = 7, picante = s = 8\n",
        "\n",
        "gill-attachment: anexado = a = 0, descendente = d = 1, livre = f = 2, entalhado = n = 3\n",
        "\n",
        "gill-spacing: próximo = c = 0, lotado = w = 1, distante = d = 2\n",
        "\n",
        "gill-size: largo = b = 0, estreito = n = 1\n",
        "\n",
        "gill-color: preto = k = 0, marrom = n = 1, amarelo-claro = b = 2, chocolate = h = 3, cinza = g = 4, verde = r = 5, laranja = o = 6, rosa = p = 7, roxo = u = 8, vermelho = e = 9, branco = w = 10, amarelo = y = 11\n",
        "\n",
        "stalk-shape: ampliação = e = 0, afilamento = t = 1\n",
        "\n",
        "stalk-root: bulboso = b = 0, clube = c = 1, xícara = u = 2, igual = e = 3, rizomorfos = z = 4, enraizado = r = 5, ausente =? = 6\n",
        "\n",
        "stalk-surface-above-ring: fibroso = f = 0, escamoso = y = 1, sedoso = k = 2, liso = s = 3\n",
        "\n",
        "stalk-surface-below-ring: fibroso = f = 0, escamoso = y = 1, sedoso = k = 2, liso = s = 3\n",
        "\n",
        "stalk-color-above-ring: marrom = n = 0, amarelo = b = 1, canela = c = 2, cinza = g = 3, laranja = o = 4, rosa = p = 5, vermelho = e = 6, branco = w = 7, amarelo = y = 8\n",
        "\n",
        "stalk-color-below-ring: marrom = n = 0, amarelo = b = 1, canela = c = 2, cinza = g = 3, laranja = o = 4, rosa = p = 5, vermelho = e = 6, branco = w = 7, amarelo = y = 8\n",
        "\n",
        "veil-type: parcial = p = 0, universal = u = 1\n",
        "\n",
        "veil-color: marrom = n = 0, laranja = o = 1, branco = w = 2, amarelo = y = 3\n",
        "\n",
        "ring-number: nenhum = n = 0, um = o = 1, dois = t = 2\n",
        "\n",
        "ring-type: teia de aranha = c = 0, evanescente = e = 1, alargamento = f = 2, grande = l = 3, nenhum = n = 4, pendente = p = 5, revestimento = s = 6, zona = z = 7\n",
        "\n",
        "spore-print-color: black = k = 0, brown = n = 1, buff = b = 2, chocolate = h = 3, green = r = 4, orange = o = 5, purple = u = 6, white = w = 7, yellow = y = 8\n",
        "\n",
        "population: abundante = a = 0, agrupado = c = 1, numeroso = n = 2, espalhado = s = 3, vários = v = 4, solitário = y = 5\n",
        "\n",
        "habitat: gramíneas = g = 0, folhas = l = 1, prados = m = 2, caminhos = p = 3, urbano = u = 4, resíduos = w = 5, bosques = d = 6"
      ]
    },
    {
      "cell_type": "code",
      "metadata": {
        "id": "-E9sB2XRea4z"
      },
      "source": [
        "data_cogumelos['class']=data_cogumelos['class'].replace(to_replace = [\"e\", \"p\"], value=[0, 1])"
      ],
      "execution_count": null,
      "outputs": []
    },
    {
      "cell_type": "code",
      "metadata": {
        "colab": {
          "base_uri": "https://localhost:8080/"
        },
        "id": "BTeFa45hSv9L",
        "outputId": "c25d5270-0674-44ba-8b0c-f44abf01bbd0"
      },
      "source": [
        "data_cogumelos['class'].describe()"
      ],
      "execution_count": null,
      "outputs": [
        {
          "output_type": "execute_result",
          "data": {
            "text/plain": [
              "count    8124.000000\n",
              "mean        0.482029\n",
              "std         0.499708\n",
              "min         0.000000\n",
              "25%         0.000000\n",
              "50%         0.000000\n",
              "75%         1.000000\n",
              "max         1.000000\n",
              "Name: class, dtype: float64"
            ]
          },
          "metadata": {
            "tags": []
          },
          "execution_count": 8
        }
      ]
    },
    {
      "cell_type": "code",
      "metadata": {
        "id": "DNfIgTG9UI37"
      },
      "source": [
        "data_cogumelos['cap-shape']=data_cogumelos['cap-shape'].replace([\"b\", \"c\", \"x\", \"f\", \"k\", \"s\"], [0, 1, 2, 3, 4, 5])"
      ],
      "execution_count": null,
      "outputs": []
    },
    {
      "cell_type": "code",
      "metadata": {
        "id": "37pHWj9-Ods7"
      },
      "source": [
        "data_cogumelos['cap-surface']=data_cogumelos['cap-surface'].replace(['f', 'g', 'y', 's'], [0, 1, 2, 3])\n",
        "data_cogumelos['cap-color']=data_cogumelos['cap-color'].replace(['n', 'b', 'c', 'g', 'r', 'p', 'u',\n",
        "                                            'e', 'w', 'y'], \n",
        "                                           [0, 1, 2, 3, 4, 5, 6, 7, 8, 9])\n"
      ],
      "execution_count": null,
      "outputs": []
    },
    {
      "cell_type": "code",
      "metadata": {
        "id": "JKMXTaJ2oKYl"
      },
      "source": [
        "data_cogumelos['bruises']=data_cogumelos['bruises'].replace(['t', 'f'], [0, 1])\n",
        "data_cogumelos['odor']=data_cogumelos['odor'].replace([\n",
        "                                                       'a', 'l', 'c', 'y', 'f',\n",
        "                                                       'm', 'n', 'p', 's'], \n",
        "                                                      [0, 1, 2, 3, 4, 5, 6, 7,\n",
        "                                                       8])\n",
        "data_cogumelos['gill-attachment']=data_cogumelos['gill-attachment'].replace(['a', 'd', 'f', 'n'], [0, 1, 2, 3,])"
      ],
      "execution_count": null,
      "outputs": []
    },
    {
      "cell_type": "code",
      "metadata": {
        "id": "Xr1W6GIep05-"
      },
      "source": [
        "data_cogumelos['gill-spacing']=data_cogumelos['gill-spacing'].replace(['c', 'w', 'd'], [0, 1, 2])\n",
        "data_cogumelos['gill-size']=data_cogumelos['gill-size'].replace(['b', 'n'], [0, 1])\n",
        "data_cogumelos['gill-color']=data_cogumelos['gill-color'].replace(['k', 'n', 'b', 'h', 'g', 'r', 'o', 'p', 'u', 'e', 'w', 'y'], \n",
        "                                                                  [0, 1, 2, 3, 4, 5, 6, 7, 8, 9, 10, 11])\n"
      ],
      "execution_count": null,
      "outputs": []
    },
    {
      "cell_type": "code",
      "metadata": {
        "id": "N3OCC-I_p21c"
      },
      "source": [
        "data_cogumelos['stalk-shape']=data_cogumelos['stalk-shape'].replace(['e', 't'], [0, 1])\n",
        "data_cogumelos['stalk-root']=data_cogumelos['stalk-root'].replace(['b', 'c', 'u', 'e', 'z', 'r', '?'], [0, 1, 2, 3, 4, 5, 6])\n",
        "data_cogumelos['stalk-surface-above-ring']=data_cogumelos['stalk-surface-above-ring'].replace(['f', 'y', 'k', 's'], [0, 1, 2, 3])\n"
      ],
      "execution_count": null,
      "outputs": []
    },
    {
      "cell_type": "code",
      "metadata": {
        "id": "qBprBZQGsi4T"
      },
      "source": [
        "data_cogumelos['stalk-surface-below-ring']=data_cogumelos['stalk-surface-below-ring'].replace(['f', 'y', 'k', 's'], [0, 1, 2, 3])\n",
        "data_cogumelos['stalk-color-above-ring']=data_cogumelos['stalk-color-above-ring'].replace(['n', 'b', 'c', 'g', 'o', 'p', 'e', 'w', 'y'], [0, 1, 2, 3, 4, 5, 6, 7, 8])\n",
        "data_cogumelos['stalk-color-below-ring']=data_cogumelos['stalk-color-below-ring'].replace(['n', 'b', 'c', 'g', 'o', 'p', 'e', 'w', 'y'], [0, 1, 2, 3, 4, 5, 6, 7, 8])\n"
      ],
      "execution_count": null,
      "outputs": []
    },
    {
      "cell_type": "code",
      "metadata": {
        "id": "9qQftsKLugSG"
      },
      "source": [
        "data_cogumelos['veil-type']=data_cogumelos['veil-type'].replace(['p','u'], [0, 1])\n",
        "data_cogumelos['veil-color']=data_cogumelos['veil-color'].replace(['n', 'o', 'w', 'y'], [0, 1, 2, 3])\n",
        "data_cogumelos['ring-number']=data_cogumelos['ring-number'].replace(['n', 'o', 't'], [0, 1, 2])\n",
        "data_cogumelos['ring-type']=data_cogumelos['ring-type'].replace(['c', 'e', 'f', 'l', 'n', 'p', 's', 'z'], [0, 1, 2, 3, 4, 5, 6, 7])\n",
        "data_cogumelos['spore-print-color']=data_cogumelos['spore-print-color'].replace(['k', 'n', 'b', 'h', 'r', 'o', 'u', 'w', 'y'], [0, 1, 2, 3, 4, 5, 6, 7, 8])\n"
      ],
      "execution_count": null,
      "outputs": []
    },
    {
      "cell_type": "code",
      "metadata": {
        "id": "-RhHSTRbwllN"
      },
      "source": [
        "data_cogumelos['population']=data_cogumelos['population'].replace(['a', 'c', 'n', 's', 'v', 'y'], [0, 1, 2, 3, 4, 5])\n",
        "data_cogumelos['habitat']=data_cogumelos['habitat'].replace(['g', 'l', 'm', 'p', 'u', 'w', 'd'], [0, 1, 2, 3, 4, 5, 6])\n"
      ],
      "execution_count": null,
      "outputs": []
    },
    {
      "cell_type": "code",
      "metadata": {
        "colab": {
          "base_uri": "https://localhost:8080/",
          "height": 568
        },
        "id": "fVHuutNSxh3n",
        "outputId": "419a0200-9a82-4824-8642-30e3ba6d67af"
      },
      "source": [
        "sns.kdeplot(data=data_cogumelos)"
      ],
      "execution_count": null,
      "outputs": [
        {
          "output_type": "stream",
          "text": [
            "/usr/local/lib/python3.7/dist-packages/seaborn/distributions.py:306: UserWarning:\n",
            "\n",
            "Dataset has 0 variance; skipping density estimate.\n",
            "\n"
          ],
          "name": "stderr"
        },
        {
          "output_type": "execute_result",
          "data": {
            "text/plain": [
              "<matplotlib.axes._subplots.AxesSubplot at 0x7f048f7bbbd0>"
            ]
          },
          "metadata": {
            "tags": []
          },
          "execution_count": 68
        },
        {
          "output_type": "display_data",
          "data": {
            "image/png": "[encoded data removed]",
            "text/plain": [
              "<Figure size 720x576 with 1 Axes>"
            ]
          },
          "metadata": {
            "tags": []
          }
        }
      ]
    },
    {
      "cell_type": "code",
      "metadata": {
        "id": "GwqgMp9D0Ppx"
      },
      "source": [
        "\n",
        "X = data_cogumelos.drop(columns='bruises').iloc[:,1:].values\n",
        "y = data_cogumelos.iloc[:,0].values\n",
        "X = np.array(X)\n",
        "y = np.array(y)\n"
      ],
      "execution_count": null,
      "outputs": []
    },
    {
      "cell_type": "markdown",
      "metadata": {
        "id": "dBBt1V3N4aoP"
      },
      "source": [
        "Importação dos modelos de IA e teste de acurácia"
      ]
    },
    {
      "cell_type": "code",
      "metadata": {
        "id": "qYZgUF7w2TYK"
      },
      "source": [
        "from sklearn.model_selection import train_test_split\n",
        "import sklearn\n",
        "from sklearn.naive_bayes import BernoulliNB\n",
        "from sklearn.naive_bayes import GaussianNB\n",
        "from sklearn.naive_bayes import MultinomialNB\n",
        "from sklearn.naive_bayes import CategoricalNB\n",
        "from sklearn.naive_bayes import ComplementNB\n",
        "from sklearn.neighbors import NearestCentroid\n",
        "from sklearn.neighbors import KNeighborsClassifier\n",
        "from sklearn.ensemble import RandomForestClassifier\n",
        "\n",
        "from sklearn.metrics import accuracy_score"
      ],
      "execution_count": null,
      "outputs": []
    },
    {
      "cell_type": "code",
      "metadata": {
        "id": "l5Jnq4bx6x5C"
      },
      "source": [
        "from sklearn.model_selection import cross_val_score\n",
        "from sklearn.preprocessing import StandardScaler"
      ],
      "execution_count": null,
      "outputs": []
    },
    {
      "cell_type": "code",
      "metadata": {
        "colab": {
          "base_uri": "https://localhost:8080/"
        },
        "id": "MYRm5QYQ0vJh",
        "outputId": "41e0684c-31f9-454b-8306-88a48029b585"
      },
      "source": [
        "scaler = StandardScaler()\n",
        "X_std = scaler.fit_transform(X, y=y)\n",
        "X_std"
      ],
      "execution_count": null,
      "outputs": [
        {
          "output_type": "execute_result",
          "data": {
            "text/plain": [
              "array([[-0.54578187,  1.06566882, -1.25530239, ..., -1.08385612,\n",
              "        -0.5143892 ,  0.30781092],\n",
              "       [-0.54578187,  1.06566882,  1.35780231, ..., -0.72989057,\n",
              "        -1.31310821, -1.2728818 ],\n",
              "       [-2.764967  ,  1.06566882,  1.06745734, ..., -0.72989057,\n",
              "        -1.31310821, -0.48253544],\n",
              "       ...,\n",
              "       [ 0.5638107 ,  1.06566882, -1.25530239, ..., -0.37592501,\n",
              "        -2.11182722, -0.87770862],\n",
              "       [ 1.67340326,  0.21789233, -1.25530239, ...,  1.39390276,\n",
              "         0.28432981, -0.87770862],\n",
              "       [-0.54578187,  1.06566882, -1.25530239, ...,  0.68597165,\n",
              "        -2.11182722, -0.87770862]])"
            ]
          },
          "metadata": {
            "tags": []
          },
          "execution_count": 43
        }
      ]
    },
    {
      "cell_type": "code",
      "metadata": {
        "id": "nTN6AeGC76yG"
      },
      "source": [
        "X_train, X_test, y_train, y_test = train_test_split(X, y, test_size=.33, random_state=24)"
      ],
      "execution_count": null,
      "outputs": []
    },
    {
      "cell_type": "code",
      "metadata": {
        "id": "AEoclB2r9RDs"
      },
      "source": [
        "gnb = GaussianNB()\n",
        "mnb = MultinomialNB()\n",
        "bnb = BernoulliNB()\n",
        "cnb = CategoricalNB(alpha=1)\n",
        "cpnb = ComplementNB()\n",
        "kgb = KNeighborsClassifier()"
      ],
      "execution_count": null,
      "outputs": []
    },
    {
      "cell_type": "code",
      "metadata": {
        "colab": {
          "base_uri": "https://localhost:8080/"
        },
        "id": "aAMqoDZc_tcN",
        "outputId": "03e34965-cf66-4183-b308-43ffa9d63180"
      },
      "source": [
        "print(f\"Y test : {y_test} ---------\")\n",
        "print(f\"X test : {X_test} ---------\")"
      ],
      "execution_count": null,
      "outputs": [
        {
          "output_type": "stream",
          "text": [
            "Y test : [0 0 0 ... 0 1 1] ---------\n",
            "X test : [[2 3 0 ... 1 0 0]\n",
            " [2 2 3 ... 0 5 6]\n",
            " [2 0 8 ... 1 0 0]\n",
            " ...\n",
            " [2 0 0 ... 1 5 6]\n",
            " [3 2 9 ... 3 4 0]\n",
            " [2 0 3 ... 3 4 0]] ---------\n"
          ],
          "name": "stdout"
        }
      ]
    },
    {
      "cell_type": "markdown",
      "metadata": {
        "id": "xhhVqaIrREki"
      },
      "source": [
        "# testes de performance de ML"
      ]
    },
    {
      "cell_type": "code",
      "metadata": {
        "id": "2AH2624cRCKj"
      },
      "source": [
        "def predict(name, model, X, y):\n",
        "    scores = cross_val_score(model, X, y, cv=10)\n",
        "    sucess_rate = np.mean(scores)\n",
        "    return sucess_rate"
      ],
      "execution_count": null,
      "outputs": []
    },
    {
      "cell_type": "code",
      "metadata": {
        "id": "bbQ6hL1DROSP"
      },
      "source": [
        "all_results = {}"
      ],
      "execution_count": null,
      "outputs": []
    },
    {
      "cell_type": "code",
      "metadata": {
        "id": "21fChO5i9TQk"
      },
      "source": [
        "all_results['GaussianNB'] = predict('GaussianNB', gnb, X_train, y_train)\n",
        "##gnb.fit(X_train, y_train)\n",
        "\n",
        "##y_expect = y_test\n",
        "##y_pred = gnb.predict(X_test)\n",
        "##print(accuracy_score(y_expect, y_pred))\n"
      ],
      "execution_count": null,
      "outputs": []
    },
    {
      "cell_type": "code",
      "metadata": {
        "id": "Qg_N-NuG-TGF"
      },
      "source": [
        "all_results['MultinomialNB'] = predict('MultinomialNB', mnb, X_train, y_train)\n",
        "##mnb.fit(X_train, y_train)\n",
        "\n",
        "##y_expect = y_test\n",
        "##y_pred = mnb.predict(X_test)\n",
        "##print(accuracy_score(y_expect, y_pred))"
      ],
      "execution_count": null,
      "outputs": []
    },
    {
      "cell_type": "code",
      "metadata": {
        "id": "17ytbMcoFlhR"
      },
      "source": [
        "all_results['BernoulliNB'] = predict('BernoulliNB', bnb, X_train, y_train)\n",
        "##bnb.fit(X_train, y_train)\n",
        "##\n",
        "##y_expect = y_test\n",
        "##y_pred = bnb.predict(X_test)\n",
        "##print(accuracy_score(y_expect, y_pred))"
      ],
      "execution_count": null,
      "outputs": []
    },
    {
      "cell_type": "code",
      "metadata": {
        "id": "vjIayxce5n6V"
      },
      "source": [
        "all_results['CategoricalNB'] = predict('CategoricalNB', cnb, X_train, y_train)\n",
        "##cnb.fit(X_train, y_train)\n",
        "##\n",
        "##y_expect = y_test\n",
        "##y_pred = cnb.predict(X_test)\n",
        "##print(accuracy_score(y_expect, y_pred))"
      ],
      "execution_count": null,
      "outputs": []
    },
    {
      "cell_type": "code",
      "metadata": {
        "id": "Bwupz_ZQ7sH8"
      },
      "source": [
        "\n",
        "all_results['ComplementNB'] = predict('ComplementNB', cpnb, X_train, y_train)\n",
        "##cpnb.fit(X_train, y_train)\n",
        "##\n",
        "##y_expect = y_test\n",
        "##y_pred = cpnb.predict(X_test)\n",
        "##print(accuracy_score(y_expect, y_pred))"
      ],
      "execution_count": null,
      "outputs": []
    },
    {
      "cell_type": "code",
      "metadata": {
        "id": "KMV3Y_AJKfki"
      },
      "source": [
        "all_results['KNeighborsClassifier'] = predict('KNeighborsClassifier', kgb, X_train, y_train)"
      ],
      "execution_count": null,
      "outputs": []
    },
    {
      "cell_type": "code",
      "metadata": {
        "colab": {
          "base_uri": "https://localhost:8080/"
        },
        "id": "qRdJQXvyL1xN",
        "outputId": "c6bf9f03-1665-4d5a-f5a6-6fa670d914ff"
      },
      "source": [
        "for key, value in all_results.items():\n",
        "    print(f\"Modelo: {key} - Taxa de acerto: {value}\")"
      ],
      "execution_count": null,
      "outputs": [
        {
          "output_type": "stream",
          "text": [
            "Modelo: GaussianNB - Taxa de acerto: 0.7903683216405828\n",
            "Modelo: MultinomialNB - Taxa de acerto: 0.7903723691311387\n",
            "Modelo: BernoulliNB - Taxa de acerto: 0.8247227468969239\n",
            "Modelo: CategoricalNB - Taxa de acerto: 0.9571920534268754\n",
            "Modelo: ComplementNB - Taxa de acerto: 0.7918426200755533\n",
            "Modelo: KNeighborsClassifier - Taxa de acerto: 0.9996323529411765\n"
          ],
          "name": "stdout"
        }
      ]
    },
    {
      "cell_type": "code",
      "metadata": {
        "id": "QbX3Sz_uLqyd"
      },
      "source": [
        "test = [[5,3,7,2,2,2,0,1,0,1,0,1,0,0,1,0,2,0,0,0,1]]\n",
        "test = np.array(test)"
      ],
      "execution_count": null,
      "outputs": []
    },
    {
      "cell_type": "code",
      "metadata": {
        "id": "ngjgzQzAURjs",
        "colab": {
          "base_uri": "https://localhost:8080/"
        },
        "outputId": "432d47e5-52ee-44af-836f-7ce93e052f08"
      },
      "source": [
        "print(f\"Teste: {test}\\n\")\n",
        "print(f\"X_test: {X_test}\\n\")"
      ],
      "execution_count": null,
      "outputs": [
        {
          "output_type": "stream",
          "text": [
            "Teste: [[5 3 7 2 2 2 0 1 0 1 0 1 0 0 1 0 2 0 0 0 1]]\n",
            "\n",
            "X_test: [[2 3 0 ... 1 0 0]\n",
            " [2 2 3 ... 0 5 6]\n",
            " [2 0 8 ... 1 0 0]\n",
            " ...\n",
            " [2 0 0 ... 1 5 6]\n",
            " [3 2 9 ... 3 4 0]\n",
            " [2 0 3 ... 3 4 0]]\n",
            "\n"
          ],
          "name": "stdout"
        }
      ]
    },
    {
      "cell_type": "markdown",
      "metadata": {
        "id": "VmZsLWE9T9Ob"
      },
      "source": [
        "# Fit do modelo"
      ]
    },
    {
      "cell_type": "code",
      "metadata": {
        "colab": {
          "base_uri": "https://localhost:8080/"
        },
        "id": "VfnNecnLT8Mw",
        "outputId": "92c1ce77-480f-4b79-aedd-b7395ae870ef"
      },
      "source": [
        "kgb.fit(X_train, y_train)"
      ],
      "execution_count": null,
      "outputs": [
        {
          "output_type": "execute_result",
          "data": {
            "text/plain": [
              "KNeighborsClassifier(algorithm='auto', leaf_size=30, metric='minkowski',\n",
              "                     metric_params=None, n_jobs=None, n_neighbors=5, p=2,\n",
              "                     weights='uniform')"
            ]
          },
          "metadata": {
            "tags": []
          },
          "execution_count": 65
        }
      ]
    },
    {
      "cell_type": "code",
      "metadata": {
        "colab": {
          "base_uri": "https://localhost:8080/"
        },
        "id": "AR9X0PY8R4Yn",
        "outputId": "5d14777d-931f-490b-f538-91a418c2fb6e"
      },
      "source": [
        "test_predict = kgb.predict(test)\n",
        "test_predict\n",
        "if test_predict == 0:\n",
        "  print(\"comestível\\n\")\n",
        "else:\n",
        "  print(\"venenosos\\n\")"
      ],
      "execution_count": null,
      "outputs": [
        {
          "output_type": "stream",
          "text": [
            "venenosos\n",
            "\n"
          ],
          "name": "stdout"
        }
      ]
    },
    {
      "cell_type": "code",
      "metadata": {
        "id": "ABxdh45lT0ma"
      },
      "source": [
        ""
      ],
      "execution_count": null,
      "outputs": []
    }
  ]
}